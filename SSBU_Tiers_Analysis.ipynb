{
  "nbformat": 4,
  "nbformat_minor": 0,
  "metadata": {
    "colab": {
      "name": "SSBU Tiers Analysis",
      "provenance": [],
      "authorship_tag": "ABX9TyN0zNOHUCjfRIVZr9Fl0PS6",
      "include_colab_link": true
    },
    "kernelspec": {
      "name": "python3",
      "display_name": "Python 3"
    }
  },
  "cells": [
    {
      "cell_type": "markdown",
      "metadata": {
        "id": "view-in-github",
        "colab_type": "text"
      },
      "source": [
        "<a href=\"https://colab.research.google.com/github/vmokashi01/SSBU-Tiers/blob/master/SSBU_Tiers_Analysis.ipynb\" target=\"_parent\"><img src=\"https://colab.research.google.com/assets/colab-badge.svg\" alt=\"Open In Colab\"/></a>"
      ]
    },
    {
      "cell_type": "markdown",
      "metadata": {
        "id": "26_vx9CmbAqi",
        "colab_type": "text"
      },
      "source": [
        "# Super Smash Bros Ultimate Tier List Analysis\n",
        "\n",
        "Super Smash Bros. Ultimate is a versatile fighting game that caters to both its casual and competitive communities. The game itself is composed of playable fighters, each with their distinct attacks and in-game stats, such as weight, gravity, and walking speed, which are then pitted against each other. The competitive community generates tier lists based on their sentiment regarding the ability for a fighter to win matches. Tier lists often implicitly include how well a fighter matches up against other characters, the skill cap of a fighter, as well as the strategies and attack combinations that can be used by the character. \n",
        "\n",
        "The aim of this exploration is to investigate the attributes of specific tiers within the most widely accepted SSBU tier list and to develop a model that can be used to predict the tier of a new character. \n",
        " \n",
        "\n",
        "\n",
        "1. Data Processing\n",
        "2. Data Exploration\n",
        "3. Modelling\n",
        "4. Conclusions\n",
        "\n"
      ]
    },
    {
      "cell_type": "code",
      "metadata": {
        "id": "T2KvqjsAkzE7",
        "colab_type": "code",
        "outputId": "f5d6693f-4bcf-4a50-d12f-0bbb8be64037",
        "colab": {
          "base_uri": "https://localhost:8080/",
          "height": 71
        }
      },
      "source": [
        "import pandas as pd\n",
        "import numpy as np\n",
        "import seaborn as sns\n",
        "import matplotlib.pyplot as plt"
      ],
      "execution_count": 1,
      "outputs": [
        {
          "output_type": "stream",
          "text": [
            "/usr/local/lib/python3.6/dist-packages/statsmodels/tools/_testing.py:19: FutureWarning: pandas.util.testing is deprecated. Use the functions in the public API at pandas.testing instead.\n",
            "  import pandas.util.testing as tm\n"
          ],
          "name": "stderr"
        }
      ]
    },
    {
      "cell_type": "code",
      "metadata": {
        "id": "DACfRuMgUnV2",
        "colab_type": "code",
        "outputId": "e46c7741-66fc-4b4d-f4bd-4eb7e4236c44",
        "colab": {
          "base_uri": "https://localhost:8080/",
          "height": 122
        }
      },
      "source": [
        "from google.colab import drive\n",
        "drive.mount('/content/drive/')"
      ],
      "execution_count": 2,
      "outputs": [
        {
          "output_type": "stream",
          "text": [
            "Go to this URL in a browser: https://accounts.google.com/o/oauth2/auth?client_id=947318989803-6bn6qk8qdgf4n4g3pfee6491hc0brc4i.apps.googleusercontent.com&redirect_uri=urn%3aietf%3awg%3aoauth%3a2.0%3aoob&response_type=code&scope=email%20https%3a%2f%2fwww.googleapis.com%2fauth%2fdocs.test%20https%3a%2f%2fwww.googleapis.com%2fauth%2fdrive%20https%3a%2f%2fwww.googleapis.com%2fauth%2fdrive.photos.readonly%20https%3a%2f%2fwww.googleapis.com%2fauth%2fpeopleapi.readonly\n",
            "\n",
            "Enter your authorization code:\n",
            "··········\n",
            "Mounted at /content/drive/\n"
          ],
          "name": "stdout"
        }
      ]
    },
    {
      "cell_type": "markdown",
      "metadata": {
        "id": "X-F6UwTIBbdO",
        "colab_type": "text"
      },
      "source": [
        "## Data Processing"
      ]
    },
    {
      "cell_type": "markdown",
      "metadata": {
        "id": "xpOdADMBgtAv",
        "colab_type": "text"
      },
      "source": [
        "At this stage there are a few tasks that need to be completed in order to ensure that the data set can be worked with. I will be using the 'Character' column as a key between the tables - to do so, each table must be checked to ensure that every character is listed. As well, the names of each character must be written the same way. For example, 'Pokemon Trainer - Ivysaur' vs. 'PT [Ivysaur]' may cause issues when joining the tables. Next, the data types of each column should be changed to correctly reflect the data within the column. Lastly, empty columns should be dropped and the individual tables will be joined in order to view the relationships between every data point for each character.\n",
        "\n",
        "Notes:\n",
        "- Some characters are not listed in some tables. The data for these characters will either be filled through an additional data source or by taking the mean of characters within a similar weight class \n",
        "- Ice Climbers consist of two partenered characters (out of which one of them is player-controlled while the other one is a CPU); they have slightly different stats, however, they will be considered as a single unit by taking the mean of their individual data points and will always be viewed in their partnered form\n",
        "- Rosalina & Luma will always be considered in their partnered form\n",
        "- Some characters have alternate forms (such as Joker and Shulk), which shift their character data points; the exploration will consider their base data points\n"
      ]
    },
    {
      "cell_type": "code",
      "metadata": {
        "id": "yl1XftLvlAjb",
        "colab_type": "code",
        "outputId": "dc547f0c-816a-408c-da47-ad274769fdef",
        "colab": {
          "base_uri": "https://localhost:8080/",
          "height": 419
        }
      },
      "source": [
        "df = pd.read_csv('/content/drive/My Drive/SSBU-Tiers/tier_data.csv', delimiter=';')\n",
        "df = df.drop(columns=['Unnamed: 4']) #drop empty column\n",
        "df['Difficulty'] = df.apply(lambda x: x.Difficulty.replace('Difficulty: ', ''), axis=1) #clean up columns\n",
        "df['Archetype'] = df.apply(lambda x: x.Archetype.replace(' Archetype', ''), axis=1)\n",
        "df"
      ],
      "execution_count": 3,
      "outputs": [
        {
          "output_type": "execute_result",
          "data": {
            "text/html": [
              "<div>\n",
              "<style scoped>\n",
              "    .dataframe tbody tr th:only-of-type {\n",
              "        vertical-align: middle;\n",
              "    }\n",
              "\n",
              "    .dataframe tbody tr th {\n",
              "        vertical-align: top;\n",
              "    }\n",
              "\n",
              "    .dataframe thead th {\n",
              "        text-align: right;\n",
              "    }\n",
              "</style>\n",
              "<table border=\"1\" class=\"dataframe\">\n",
              "  <thead>\n",
              "    <tr style=\"text-align: right;\">\n",
              "      <th></th>\n",
              "      <th>Character</th>\n",
              "      <th>Difficulty</th>\n",
              "      <th>Archetype</th>\n",
              "      <th>Tier</th>\n",
              "    </tr>\n",
              "  </thead>\n",
              "  <tbody>\n",
              "    <tr>\n",
              "      <th>0</th>\n",
              "      <td>Banjo &amp; Kazooie</td>\n",
              "      <td>Intermediate</td>\n",
              "      <td>Projectile</td>\n",
              "      <td>B</td>\n",
              "    </tr>\n",
              "    <tr>\n",
              "      <th>1</th>\n",
              "      <td>Bayonetta</td>\n",
              "      <td>Hard</td>\n",
              "      <td>Rushdown</td>\n",
              "      <td>D</td>\n",
              "    </tr>\n",
              "    <tr>\n",
              "      <th>2</th>\n",
              "      <td>Bowser</td>\n",
              "      <td>Easy</td>\n",
              "      <td>Heavy</td>\n",
              "      <td>B</td>\n",
              "    </tr>\n",
              "    <tr>\n",
              "      <th>3</th>\n",
              "      <td>Bowser Jr.</td>\n",
              "      <td>Easy</td>\n",
              "      <td>Rushdown</td>\n",
              "      <td>D</td>\n",
              "    </tr>\n",
              "    <tr>\n",
              "      <th>4</th>\n",
              "      <td>Byleth</td>\n",
              "      <td>Intermediate</td>\n",
              "      <td>Sword</td>\n",
              "      <td>B</td>\n",
              "    </tr>\n",
              "    <tr>\n",
              "      <th>...</th>\n",
              "      <td>...</td>\n",
              "      <td>...</td>\n",
              "      <td>...</td>\n",
              "      <td>...</td>\n",
              "    </tr>\n",
              "    <tr>\n",
              "      <th>77</th>\n",
              "      <td>Wolf</td>\n",
              "      <td>Easy</td>\n",
              "      <td>Projectile</td>\n",
              "      <td>A</td>\n",
              "    </tr>\n",
              "    <tr>\n",
              "      <th>78</th>\n",
              "      <td>Yoshi</td>\n",
              "      <td>Intermediate</td>\n",
              "      <td>Rushdown</td>\n",
              "      <td>B</td>\n",
              "    </tr>\n",
              "    <tr>\n",
              "      <th>79</th>\n",
              "      <td>Young Link</td>\n",
              "      <td>Intermediate</td>\n",
              "      <td>Projectile</td>\n",
              "      <td>A</td>\n",
              "    </tr>\n",
              "    <tr>\n",
              "      <th>80</th>\n",
              "      <td>Zelda</td>\n",
              "      <td>Easy</td>\n",
              "      <td>Projectile</td>\n",
              "      <td>B</td>\n",
              "    </tr>\n",
              "    <tr>\n",
              "      <th>81</th>\n",
              "      <td>Zero Suit Samus</td>\n",
              "      <td>Intermediate</td>\n",
              "      <td>Rushdown</td>\n",
              "      <td>S</td>\n",
              "    </tr>\n",
              "  </tbody>\n",
              "</table>\n",
              "<p>82 rows × 4 columns</p>\n",
              "</div>"
            ],
            "text/plain": [
              "          Character    Difficulty   Archetype Tier\n",
              "0   Banjo & Kazooie  Intermediate  Projectile    B\n",
              "1         Bayonetta          Hard    Rushdown    D\n",
              "2            Bowser          Easy       Heavy    B\n",
              "3        Bowser Jr.          Easy    Rushdown    D\n",
              "4            Byleth  Intermediate       Sword    B\n",
              "..              ...           ...         ...  ...\n",
              "77             Wolf          Easy  Projectile    A\n",
              "78            Yoshi  Intermediate    Rushdown    B\n",
              "79       Young Link  Intermediate  Projectile    A\n",
              "80            Zelda          Easy  Projectile    B\n",
              "81  Zero Suit Samus  Intermediate    Rushdown    S\n",
              "\n",
              "[82 rows x 4 columns]"
            ]
          },
          "metadata": {
            "tags": []
          },
          "execution_count": 3
        }
      ]
    },
    {
      "cell_type": "markdown",
      "metadata": {
        "id": "_qco7HeY7sqQ",
        "colab_type": "text"
      },
      "source": [
        "I have written a 'clean' function to deal with many of the syntactical issues within the data (eg. naming conventions) - I have used this function as well to manually input missing characters and values for different tables. \n",
        "\n",
        "**Note:**\n",
        "Currently, many of the methods are specific to the tables I have collected - as a next step, I am going to abstract  the processes within this function in order to account for continuous data collection.\n",
        "\n",
        "Fixes:\n",
        "- Rosa & Luma naming convention\n",
        "- PT naming convention\n",
        "- Meta Knight naming convention\n",
        "- IC naming convention\n",
        "- missing values for some characters"
      ]
    },
    {
      "cell_type": "code",
      "metadata": {
        "id": "H00QA3SKE3u0",
        "colab_type": "code",
        "colab": {}
      },
      "source": [
        "def clean(table, name):\n",
        "  table = table.iloc[:, :-1] #drop \"Unnamed\" columns\n",
        "\n",
        "  #drop Rank columns\n",
        "  if 'Rank' in table.columns:\n",
        "    table = table.drop(columns=['Rank'])\n",
        "\n",
        "  #uniform names for PT fighters\n",
        "  table.loc[table['Character'].str.contains('Ivysaur'), 'Character'] = 'Ivysaur'\n",
        "  table.loc[table['Character'].str.contains('Charizard'), 'Character'] = 'Charizard'\n",
        "  table.loc[table['Character'].str.contains('Squirtle'), 'Character'] = 'Squirtle'\n",
        "\n",
        "  # data from https://www.ssbwiki.com/Air_acceleration#Super_Smash_Bros._Ultimate\n",
        "\n",
        "  if name == 'acceleration':\n",
        "    table = table.append(pd.Series(['Joker', '0.01', '0.07', '0.08']))\n",
        "    table = table.append(pd.Series(['Terry', '0.01', '0.05', '0.06']))\n",
        "\n",
        "  \n",
        "  if name == 'air_speed':\n",
        "    table = table.append(pd.Series(['Byleth', '0.89']))\n",
        "  \n",
        "  if name == 'dash_speed':\n",
        "  #average IC fighters\n",
        "    initial = str((float(table.loc[table['Character'] == 'Ice Climbers (partner)', 'Initial Dash']) + float(table.loc[table['Character'] == 'Ice Climbers (leader)', 'Initial Dash']))/2)\n",
        "    run = str((float(table.loc[table['Character'] == 'Ice Climbers (partner)', 'Run Speed']) + float(table.loc[table['Character'] == 'Ice Climbers (leader)', 'Run Speed']))/2)\n",
        "    dash = str((float(table.loc[table['Character'] == 'Ice Climbers (partner)', 'Dash Frames']) + float(table.loc[table['Character'] == 'Ice Climbers (leader)', 'Dash Frames']))/2)\n",
        "    pivot = str((float(table.loc[table['Character'] == 'Ice Climbers (partner)', 'Pivot Dash Frames']) + float(table.loc[table['Character'] == 'Ice Climbers (leader)', 'Pivot Dash Frames']))/2)\n",
        "    table = table.append(pd.Series(['Ice Climbers', initial, run, dash, pivot], index = table.columns), ignore_index = True)\n",
        "    table = table[table.Character != 'Ice Climbers (partner)']\n",
        "    table = table[table.Character != 'Ice Climbers (leader)']\n",
        "\n",
        "  if name == 'fall_speed':\n",
        "    table = table.append(pd.Series(['Byleth', '1.6', '2.56', '60%']))\n",
        "  \n",
        "  if name == 'gravity':\n",
        "    table = table.append(pd.Series(['Byleth', '0.089']))\n",
        "    table = table.append(pd.Series(['Terry', '0.09']))\n",
        "\n",
        "  if name == 'jump_height':\n",
        "    table = table.append(pd.Series(['Byleth', '26.5', '14', '28.5']))\n",
        "    table = table.append(pd.Series(['Joker', '32.5', '14.2', '34']))\n",
        "    table = table.append(pd.Series(['Terry', '27', '15.2', '29']))\n",
        "\n",
        "  if name == 'landing':\n",
        "    # split mirrors into separate lines\n",
        "  \n",
        "  if name == 'ledge':\n",
        "    # Add Terry\n",
        "  \n",
        "  if name == 'shield':\n",
        "    # PAC MAN capitalization\n",
        "    # drop Rosa no luma\n",
        "\n",
        "  table = table.sort_values(by = 'Character')\n",
        "          \n",
        "  return table"
      ],
      "execution_count": 0,
      "outputs": []
    },
    {
      "cell_type": "markdown",
      "metadata": {
        "id": "FtDw_ojoHr7L",
        "colab_type": "text"
      },
      "source": [
        "Based on the amount of missing data, it seems as though SSBWiki would be a more reliable source for frame data - for now, I have used this unscalable manual data entry method, however, on the next iteration, I will conduct the data scraping process using data sourced from SSBWiki in order to maintain access to the most up-to-date character information. "
      ]
    },
    {
      "cell_type": "code",
      "metadata": {
        "id": "Vu8BmWzwIHIz",
        "colab_type": "code",
        "colab": {}
      },
      "source": [
        "tables = ['acceleration', 'air_speed', 'dash_speed', 'fall_speed', 'gravity', 'jump_duration', 'jump_height', 'landing', 'ledge', 'shield', 'walk_speed', 'weight']"
      ],
      "execution_count": 0,
      "outputs": []
    },
    {
      "cell_type": "code",
      "metadata": {
        "id": "4ipRD_HqH4ds",
        "colab_type": "code",
        "outputId": "db2ddd30-4946-4fd5-b1e7-8240efbb7579",
        "colab": {
          "base_uri": "https://localhost:8080/",
          "height": 351
        }
      },
      "source": [
        "for name in tables:\n",
        "  table = pd.read_csv('/content/drive/My Drive/SSBU-Tiers/' + name + '.csv', delimiter=';')\n",
        "  print(name)\n",
        "  table = clean(table, name)\n",
        "  df = df.set_index('Character').join(table.set_index('Character'))\n"
      ],
      "execution_count": 53,
      "outputs": [
        {
          "output_type": "stream",
          "text": [
            "acceleration\n",
            "air_speed\n"
          ],
          "name": "stdout"
        },
        {
          "output_type": "error",
          "ename": "KeyError",
          "evalue": "ignored",
          "traceback": [
            "\u001b[0;31m---------------------------------------------------------------------------\u001b[0m",
            "\u001b[0;31mKeyError\u001b[0m                                  Traceback (most recent call last)",
            "\u001b[0;32m<ipython-input-53-f8ac234abb77>\u001b[0m in \u001b[0;36m<module>\u001b[0;34m()\u001b[0m\n\u001b[1;32m      3\u001b[0m   \u001b[0mprint\u001b[0m\u001b[0;34m(\u001b[0m\u001b[0mname\u001b[0m\u001b[0;34m)\u001b[0m\u001b[0;34m\u001b[0m\u001b[0;34m\u001b[0m\u001b[0m\n\u001b[1;32m      4\u001b[0m   \u001b[0mtable\u001b[0m \u001b[0;34m=\u001b[0m \u001b[0mclean\u001b[0m\u001b[0;34m(\u001b[0m\u001b[0mtable\u001b[0m\u001b[0;34m,\u001b[0m \u001b[0mname\u001b[0m\u001b[0;34m)\u001b[0m\u001b[0;34m\u001b[0m\u001b[0;34m\u001b[0m\u001b[0m\n\u001b[0;32m----> 5\u001b[0;31m   \u001b[0mdf\u001b[0m \u001b[0;34m=\u001b[0m \u001b[0mdf\u001b[0m\u001b[0;34m.\u001b[0m\u001b[0mset_index\u001b[0m\u001b[0;34m(\u001b[0m\u001b[0;34m'Character'\u001b[0m\u001b[0;34m)\u001b[0m\u001b[0;34m.\u001b[0m\u001b[0mjoin\u001b[0m\u001b[0;34m(\u001b[0m\u001b[0mtable\u001b[0m\u001b[0;34m.\u001b[0m\u001b[0mset_index\u001b[0m\u001b[0;34m(\u001b[0m\u001b[0;34m'Character'\u001b[0m\u001b[0;34m)\u001b[0m\u001b[0;34m)\u001b[0m\u001b[0;34m\u001b[0m\u001b[0;34m\u001b[0m\u001b[0m\n\u001b[0m",
            "\u001b[0;32m/usr/local/lib/python3.6/dist-packages/pandas/core/frame.py\u001b[0m in \u001b[0;36mset_index\u001b[0;34m(self, keys, drop, append, inplace, verify_integrity)\u001b[0m\n\u001b[1;32m   4301\u001b[0m \u001b[0;34m\u001b[0m\u001b[0m\n\u001b[1;32m   4302\u001b[0m         \u001b[0;32mif\u001b[0m \u001b[0mmissing\u001b[0m\u001b[0;34m:\u001b[0m\u001b[0;34m\u001b[0m\u001b[0;34m\u001b[0m\u001b[0m\n\u001b[0;32m-> 4303\u001b[0;31m             \u001b[0;32mraise\u001b[0m \u001b[0mKeyError\u001b[0m\u001b[0;34m(\u001b[0m\u001b[0;34mf\"None of {missing} are in the columns\"\u001b[0m\u001b[0;34m)\u001b[0m\u001b[0;34m\u001b[0m\u001b[0;34m\u001b[0m\u001b[0m\n\u001b[0m\u001b[1;32m   4304\u001b[0m \u001b[0;34m\u001b[0m\u001b[0m\n\u001b[1;32m   4305\u001b[0m         \u001b[0;32mif\u001b[0m \u001b[0minplace\u001b[0m\u001b[0;34m:\u001b[0m\u001b[0;34m\u001b[0m\u001b[0;34m\u001b[0m\u001b[0m\n",
            "\u001b[0;31mKeyError\u001b[0m: \"None of ['Character'] are in the columns\""
          ]
        }
      ]
    },
    {
      "cell_type": "code",
      "metadata": {
        "id": "INdxkERF7eCo",
        "colab_type": "code",
        "colab": {
          "base_uri": "https://localhost:8080/",
          "height": 419
        },
        "outputId": "c9d37ce7-688e-4ef7-c7bb-59d203460178"
      },
      "source": [
        "df"
      ],
      "execution_count": 52,
      "outputs": [
        {
          "output_type": "execute_result",
          "data": {
            "text/html": [
              "<div>\n",
              "<style scoped>\n",
              "    .dataframe tbody tr th:only-of-type {\n",
              "        vertical-align: middle;\n",
              "    }\n",
              "\n",
              "    .dataframe tbody tr th {\n",
              "        vertical-align: top;\n",
              "    }\n",
              "\n",
              "    .dataframe thead th {\n",
              "        text-align: right;\n",
              "    }\n",
              "</style>\n",
              "<table border=\"1\" class=\"dataframe\">\n",
              "  <thead>\n",
              "    <tr style=\"text-align: right;\">\n",
              "      <th></th>\n",
              "      <th>Character</th>\n",
              "      <th>Difficulty</th>\n",
              "      <th>Archetype</th>\n",
              "      <th>Tier</th>\n",
              "    </tr>\n",
              "  </thead>\n",
              "  <tbody>\n",
              "    <tr>\n",
              "      <th>0</th>\n",
              "      <td>Banjo &amp; Kazooie</td>\n",
              "      <td>Intermediate</td>\n",
              "      <td>Projectile</td>\n",
              "      <td>B</td>\n",
              "    </tr>\n",
              "    <tr>\n",
              "      <th>1</th>\n",
              "      <td>Bayonetta</td>\n",
              "      <td>Hard</td>\n",
              "      <td>Rushdown</td>\n",
              "      <td>D</td>\n",
              "    </tr>\n",
              "    <tr>\n",
              "      <th>2</th>\n",
              "      <td>Bowser</td>\n",
              "      <td>Easy</td>\n",
              "      <td>Heavy</td>\n",
              "      <td>B</td>\n",
              "    </tr>\n",
              "    <tr>\n",
              "      <th>3</th>\n",
              "      <td>Bowser Jr.</td>\n",
              "      <td>Easy</td>\n",
              "      <td>Rushdown</td>\n",
              "      <td>D</td>\n",
              "    </tr>\n",
              "    <tr>\n",
              "      <th>4</th>\n",
              "      <td>Byleth</td>\n",
              "      <td>Intermediate</td>\n",
              "      <td>Sword</td>\n",
              "      <td>B</td>\n",
              "    </tr>\n",
              "    <tr>\n",
              "      <th>...</th>\n",
              "      <td>...</td>\n",
              "      <td>...</td>\n",
              "      <td>...</td>\n",
              "      <td>...</td>\n",
              "    </tr>\n",
              "    <tr>\n",
              "      <th>77</th>\n",
              "      <td>Wolf</td>\n",
              "      <td>Easy</td>\n",
              "      <td>Projectile</td>\n",
              "      <td>A</td>\n",
              "    </tr>\n",
              "    <tr>\n",
              "      <th>78</th>\n",
              "      <td>Yoshi</td>\n",
              "      <td>Intermediate</td>\n",
              "      <td>Rushdown</td>\n",
              "      <td>B</td>\n",
              "    </tr>\n",
              "    <tr>\n",
              "      <th>79</th>\n",
              "      <td>Young Link</td>\n",
              "      <td>Intermediate</td>\n",
              "      <td>Projectile</td>\n",
              "      <td>A</td>\n",
              "    </tr>\n",
              "    <tr>\n",
              "      <th>80</th>\n",
              "      <td>Zelda</td>\n",
              "      <td>Easy</td>\n",
              "      <td>Projectile</td>\n",
              "      <td>B</td>\n",
              "    </tr>\n",
              "    <tr>\n",
              "      <th>81</th>\n",
              "      <td>Zero Suit Samus</td>\n",
              "      <td>Intermediate</td>\n",
              "      <td>Rushdown</td>\n",
              "      <td>S</td>\n",
              "    </tr>\n",
              "  </tbody>\n",
              "</table>\n",
              "<p>82 rows × 4 columns</p>\n",
              "</div>"
            ],
            "text/plain": [
              "          Character    Difficulty   Archetype Tier\n",
              "0   Banjo & Kazooie  Intermediate  Projectile    B\n",
              "1         Bayonetta          Hard    Rushdown    D\n",
              "2            Bowser          Easy       Heavy    B\n",
              "3        Bowser Jr.          Easy    Rushdown    D\n",
              "4            Byleth  Intermediate       Sword    B\n",
              "..              ...           ...         ...  ...\n",
              "77             Wolf          Easy  Projectile    A\n",
              "78            Yoshi  Intermediate    Rushdown    B\n",
              "79       Young Link  Intermediate  Projectile    A\n",
              "80            Zelda          Easy  Projectile    B\n",
              "81  Zero Suit Samus  Intermediate    Rushdown    S\n",
              "\n",
              "[82 rows x 4 columns]"
            ]
          },
          "metadata": {
            "tags": []
          },
          "execution_count": 52
        }
      ]
    },
    {
      "cell_type": "code",
      "metadata": {
        "id": "55SC8V-vCzY2",
        "colab_type": "code",
        "outputId": "755764ae-1675-4dec-adf5-5101c2b1a02a",
        "colab": {
          "base_uri": "https://localhost:8080/",
          "height": 419
        }
      },
      "source": [
        "weight = pd.read_csv('/content/drive/My Drive/SSBU-Tiers/weight.csv', delimiter=';')\n",
        "weight = clean(weight, 'weight')\n",
        "weight\n",
        "#df.set_index('Character').join(weight.set_index('Character'))"
      ],
      "execution_count": 22,
      "outputs": [
        {
          "output_type": "execute_result",
          "data": {
            "text/html": [
              "<div>\n",
              "<style scoped>\n",
              "    .dataframe tbody tr th:only-of-type {\n",
              "        vertical-align: middle;\n",
              "    }\n",
              "\n",
              "    .dataframe tbody tr th {\n",
              "        vertical-align: top;\n",
              "    }\n",
              "\n",
              "    .dataframe thead th {\n",
              "        text-align: right;\n",
              "    }\n",
              "</style>\n",
              "<table border=\"1\" class=\"dataframe\">\n",
              "  <thead>\n",
              "    <tr style=\"text-align: right;\">\n",
              "      <th></th>\n",
              "      <th>Character</th>\n",
              "      <th>Weight</th>\n",
              "    </tr>\n",
              "  </thead>\n",
              "  <tbody>\n",
              "    <tr>\n",
              "      <th>0</th>\n",
              "      <td>Bowser</td>\n",
              "      <td>135</td>\n",
              "    </tr>\n",
              "    <tr>\n",
              "      <th>1</th>\n",
              "      <td>King K. Rool</td>\n",
              "      <td>133</td>\n",
              "    </tr>\n",
              "    <tr>\n",
              "      <th>2</th>\n",
              "      <td>Donkey Kong</td>\n",
              "      <td>127</td>\n",
              "    </tr>\n",
              "    <tr>\n",
              "      <th>3</th>\n",
              "      <td>King Dedede</td>\n",
              "      <td>127</td>\n",
              "    </tr>\n",
              "    <tr>\n",
              "      <th>4</th>\n",
              "      <td>Ganondorf</td>\n",
              "      <td>118</td>\n",
              "    </tr>\n",
              "    <tr>\n",
              "      <th>...</th>\n",
              "      <td>...</td>\n",
              "      <td>...</td>\n",
              "    </tr>\n",
              "    <tr>\n",
              "      <th>77</th>\n",
              "      <td>Fox</td>\n",
              "      <td>77</td>\n",
              "    </tr>\n",
              "    <tr>\n",
              "      <th>78</th>\n",
              "      <td>Mr. Game &amp; Watch</td>\n",
              "      <td>75</td>\n",
              "    </tr>\n",
              "    <tr>\n",
              "      <th>79</th>\n",
              "      <td>Squirtle</td>\n",
              "      <td>75</td>\n",
              "    </tr>\n",
              "    <tr>\n",
              "      <th>80</th>\n",
              "      <td>Jigglypuff</td>\n",
              "      <td>68</td>\n",
              "    </tr>\n",
              "    <tr>\n",
              "      <th>81</th>\n",
              "      <td>Pichu</td>\n",
              "      <td>62</td>\n",
              "    </tr>\n",
              "  </tbody>\n",
              "</table>\n",
              "<p>82 rows × 2 columns</p>\n",
              "</div>"
            ],
            "text/plain": [
              "           Character  Weight\n",
              "0             Bowser     135\n",
              "1       King K. Rool     133\n",
              "2        Donkey Kong     127\n",
              "3        King Dedede     127\n",
              "4          Ganondorf     118\n",
              "..               ...     ...\n",
              "77               Fox      77\n",
              "78  Mr. Game & Watch      75\n",
              "79          Squirtle      75\n",
              "80        Jigglypuff      68\n",
              "81             Pichu      62\n",
              "\n",
              "[82 rows x 2 columns]"
            ]
          },
          "metadata": {
            "tags": []
          },
          "execution_count": 22
        }
      ]
    },
    {
      "cell_type": "code",
      "metadata": {
        "id": "KlXppmKyI5FD",
        "colab_type": "code",
        "colab": {
          "base_uri": "https://localhost:8080/",
          "height": 504
        },
        "outputId": "f7a874ff-1339-4ba5-9816-159147647e03"
      },
      "source": [
        "shield = pd.read_csv('/content/drive/My Drive/SSBU-Tiers/shield.csv', delimiter=';')\n",
        "shield = clean(shield, 'shield')\n",
        "shield"
      ],
      "execution_count": 54,
      "outputs": [
        {
          "output_type": "execute_result",
          "data": {
            "text/html": [
              "<div>\n",
              "<style scoped>\n",
              "    .dataframe tbody tr th:only-of-type {\n",
              "        vertical-align: middle;\n",
              "    }\n",
              "\n",
              "    .dataframe tbody tr th {\n",
              "        vertical-align: top;\n",
              "    }\n",
              "\n",
              "    .dataframe thead th {\n",
              "        text-align: right;\n",
              "    }\n",
              "</style>\n",
              "<table border=\"1\" class=\"dataframe\">\n",
              "  <thead>\n",
              "    <tr style=\"text-align: right;\">\n",
              "      <th></th>\n",
              "      <th>Character</th>\n",
              "      <th>#1</th>\n",
              "      <th>Fastest Move(s)</th>\n",
              "      <th>#2</th>\n",
              "      <th>2nd Fastest Move(s)</th>\n",
              "      <th>#3</th>\n",
              "      <th>3rd Fastest Move(s)</th>\n",
              "      <th>Grab</th>\n",
              "      <th>Grab, Post-Shieldstun</th>\n",
              "      <th>Item Throw(Forward)</th>\n",
              "      <th>Item Throw(Back)</th>\n",
              "      <th>Jump+Z-Drop (Front)</th>\n",
              "      <th>Jump+Z-Drop(Behind)</th>\n",
              "    </tr>\n",
              "  </thead>\n",
              "  <tbody>\n",
              "    <tr>\n",
              "      <th>0</th>\n",
              "      <td>Banjo &amp; Kazooie</td>\n",
              "      <td>9</td>\n",
              "      <td>Usmash</td>\n",
              "      <td>10</td>\n",
              "      <td>Uair</td>\n",
              "      <td>11</td>\n",
              "      <td>Bair</td>\n",
              "      <td>7</td>\n",
              "      <td>11</td>\n",
              "      <td>**</td>\n",
              "      <td>**</td>\n",
              "      <td>**</td>\n",
              "      <td>**</td>\n",
              "    </tr>\n",
              "    <tr>\n",
              "      <th>1</th>\n",
              "      <td>Bayonetta</td>\n",
              "      <td>6</td>\n",
              "      <td>UpB</td>\n",
              "      <td>10</td>\n",
              "      <td>Fair, SideB (Air)</td>\n",
              "      <td>12</td>\n",
              "      <td>Nair, Uair</td>\n",
              "      <td>7</td>\n",
              "      <td>11</td>\n",
              "      <td>10</td>\n",
              "      <td>10</td>\n",
              "      <td>4</td>\n",
              "      <td>5</td>\n",
              "    </tr>\n",
              "    <tr>\n",
              "      <th>2</th>\n",
              "      <td>Bowser</td>\n",
              "      <td>6</td>\n",
              "      <td>UpB</td>\n",
              "      <td>9</td>\n",
              "      <td>SideB (Air)</td>\n",
              "      <td>11</td>\n",
              "      <td>Nair</td>\n",
              "      <td>8</td>\n",
              "      <td>12</td>\n",
              "      <td>10</td>\n",
              "      <td>13</td>\n",
              "      <td>4</td>\n",
              "      <td>5</td>\n",
              "    </tr>\n",
              "    <tr>\n",
              "      <th>3</th>\n",
              "      <td>Bowser Jr.</td>\n",
              "      <td>7</td>\n",
              "      <td>Usmash</td>\n",
              "      <td>9</td>\n",
              "      <td>Uair</td>\n",
              "      <td>10</td>\n",
              "      <td>Nair</td>\n",
              "      <td>11</td>\n",
              "      <td>15</td>\n",
              "      <td>8</td>\n",
              "      <td>11</td>\n",
              "      <td>4</td>\n",
              "      <td>5</td>\n",
              "    </tr>\n",
              "    <tr>\n",
              "      <th>4</th>\n",
              "      <td>Byleth</td>\n",
              "      <td>9</td>\n",
              "      <td>NAir</td>\n",
              "      <td>11</td>\n",
              "      <td>Up B</td>\n",
              "      <td>13</td>\n",
              "      <td>UAir, USmash</td>\n",
              "      <td>6</td>\n",
              "      <td>10</td>\n",
              "      <td>**</td>\n",
              "      <td>**</td>\n",
              "      <td>**</td>\n",
              "      <td>**</td>\n",
              "    </tr>\n",
              "    <tr>\n",
              "      <th>...</th>\n",
              "      <td>...</td>\n",
              "      <td>...</td>\n",
              "      <td>...</td>\n",
              "      <td>...</td>\n",
              "      <td>...</td>\n",
              "      <td>...</td>\n",
              "      <td>...</td>\n",
              "      <td>...</td>\n",
              "      <td>...</td>\n",
              "      <td>...</td>\n",
              "      <td>...</td>\n",
              "      <td>...</td>\n",
              "      <td>...</td>\n",
              "    </tr>\n",
              "    <tr>\n",
              "      <th>78</th>\n",
              "      <td>Wolf</td>\n",
              "      <td>10</td>\n",
              "      <td>Nair, Fair, Uair, DownB (Air)</td>\n",
              "      <td>13</td>\n",
              "      <td>Usmash</td>\n",
              "      <td>15</td>\n",
              "      <td>Jab</td>\n",
              "      <td>6</td>\n",
              "      <td>9</td>\n",
              "      <td>8</td>\n",
              "      <td>11</td>\n",
              "      <td>4</td>\n",
              "      <td>5</td>\n",
              "    </tr>\n",
              "    <tr>\n",
              "      <th>79</th>\n",
              "      <td>Yoshi</td>\n",
              "      <td>6</td>\n",
              "      <td>Nair</td>\n",
              "      <td>8</td>\n",
              "      <td>Uair</td>\n",
              "      <td>11</td>\n",
              "      <td>Usmash</td>\n",
              "      <td>14</td>\n",
              "      <td>18</td>\n",
              "      <td>8</td>\n",
              "      <td>7</td>\n",
              "      <td>4</td>\n",
              "      <td>5</td>\n",
              "    </tr>\n",
              "    <tr>\n",
              "      <th>80</th>\n",
              "      <td>Young Link</td>\n",
              "      <td>7</td>\n",
              "      <td>Nair</td>\n",
              "      <td>8</td>\n",
              "      <td>Uair</td>\n",
              "      <td>9</td>\n",
              "      <td>UpB</td>\n",
              "      <td>12</td>\n",
              "      <td>16</td>\n",
              "      <td>8</td>\n",
              "      <td>10</td>\n",
              "      <td>4</td>\n",
              "      <td>5</td>\n",
              "    </tr>\n",
              "    <tr>\n",
              "      <th>81</th>\n",
              "      <td>Zelda</td>\n",
              "      <td>6</td>\n",
              "      <td>UpB</td>\n",
              "      <td>9</td>\n",
              "      <td>Nair, Fair, Bair, Usmash</td>\n",
              "      <td>14</td>\n",
              "      <td>NeutralB (Air)</td>\n",
              "      <td>10</td>\n",
              "      <td>14</td>\n",
              "      <td>10</td>\n",
              "      <td>10</td>\n",
              "      <td>4</td>\n",
              "      <td>5</td>\n",
              "    </tr>\n",
              "    <tr>\n",
              "      <th>82</th>\n",
              "      <td>Zero Suit Samus</td>\n",
              "      <td>4</td>\n",
              "      <td>UpB</td>\n",
              "      <td>9</td>\n",
              "      <td>Fair, Uair</td>\n",
              "      <td>10</td>\n",
              "      <td>Usmash</td>\n",
              "      <td>15</td>\n",
              "      <td>19</td>\n",
              "      <td>7</td>\n",
              "      <td>9</td>\n",
              "      <td>4</td>\n",
              "      <td>5</td>\n",
              "    </tr>\n",
              "  </tbody>\n",
              "</table>\n",
              "<p>83 rows × 13 columns</p>\n",
              "</div>"
            ],
            "text/plain": [
              "          Character  #1  ... Jump+Z-Drop (Front) Jump+Z-Drop(Behind)\n",
              "0   Banjo & Kazooie   9  ...                  **                  **\n",
              "1         Bayonetta   6  ...                   4                   5\n",
              "2            Bowser   6  ...                   4                   5\n",
              "3        Bowser Jr.   7  ...                   4                   5\n",
              "4            Byleth   9  ...                  **                  **\n",
              "..              ...  ..  ...                 ...                 ...\n",
              "78             Wolf  10  ...                   4                   5\n",
              "79            Yoshi   6  ...                   4                   5\n",
              "80       Young Link   7  ...                   4                   5\n",
              "81            Zelda   6  ...                   4                   5\n",
              "82  Zero Suit Samus   4  ...                   4                   5\n",
              "\n",
              "[83 rows x 13 columns]"
            ]
          },
          "metadata": {
            "tags": []
          },
          "execution_count": 54
        }
      ]
    },
    {
      "cell_type": "code",
      "metadata": {
        "id": "--BGCY8W2WcO",
        "colab_type": "code",
        "colab": {
          "base_uri": "https://localhost:8080/",
          "height": 34
        },
        "outputId": "914466ce-8a02-4e06-ae31-4c99cef80ef7"
      },
      "source": [
        "acc = pd.read_csv('/content/drive/My Drive/SSBU-Tiers/acceleration.csv', delimiter=';')\n",
        "acc\n",
        "acc = clean(acc, 'a')\n",
        "acc.columns"
      ],
      "execution_count": 47,
      "outputs": [
        {
          "output_type": "execute_result",
          "data": {
            "text/plain": [
              "Index(['Character', 'Base', 'Additional', 'Max'], dtype='object')"
            ]
          },
          "metadata": {
            "tags": []
          },
          "execution_count": 47
        }
      ]
    },
    {
      "cell_type": "code",
      "metadata": {
        "id": "K_g5SzWa5Tcz",
        "colab_type": "code",
        "colab": {}
      },
      "source": [
        ""
      ],
      "execution_count": 0,
      "outputs": []
    }
  ]
}